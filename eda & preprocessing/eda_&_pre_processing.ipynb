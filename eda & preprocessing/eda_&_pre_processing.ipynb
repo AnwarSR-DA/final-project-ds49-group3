{
  "cells": [
    {
      "cell_type": "markdown",
      "metadata": {
        "id": "view-in-github",
        "colab_type": "text"
      },
      "source": [
        "<a href=\"https://colab.research.google.com/github/AnwarSR-DA/final-project-ds49-group3/blob/main/eda%20%26%20preprocessing/eda_%26_pre_processing.ipynb\" target=\"_parent\"><img src=\"https://colab.research.google.com/assets/colab-badge.svg\" alt=\"Open In Colab\"/></a>"
      ]
    },
    {
      "cell_type": "markdown",
      "id": "6881d365",
      "metadata": {
        "id": "6881d365"
      },
      "source": [
        "# 0. Connect to GitHub"
      ]
    },
    {
      "cell_type": "markdown",
      "id": "9cf52273",
      "metadata": {
        "id": "9cf52273"
      },
      "source": [
        "## 0.1 Import Libraries"
      ]
    },
    {
      "cell_type": "markdown",
      "id": "232c4647",
      "metadata": {
        "id": "232c4647"
      },
      "source": [
        "## 0.2 Load Dataset"
      ]
    },
    {
      "cell_type": "markdown",
      "id": "674e905c",
      "metadata": {
        "id": "674e905c"
      },
      "source": [
        "# 1. Exploratory Data Analysis"
      ]
    },
    {
      "cell_type": "markdown",
      "id": "e08a7138",
      "metadata": {
        "id": "e08a7138"
      },
      "source": [
        "## 1.1 Check Null Values"
      ]
    },
    {
      "cell_type": "markdown",
      "id": "098cbfe8",
      "metadata": {
        "id": "098cbfe8"
      },
      "source": [
        "## 1.2 Check Duplicate Data"
      ]
    },
    {
      "cell_type": "markdown",
      "id": "eca854ea",
      "metadata": {
        "id": "eca854ea"
      },
      "source": [
        "## 1.3 Check Unique Values"
      ]
    },
    {
      "cell_type": "markdown",
      "id": "45bfd95c",
      "metadata": {
        "id": "45bfd95c"
      },
      "source": [
        "### 1.3.1 Check Data Shape"
      ]
    },
    {
      "cell_type": "markdown",
      "id": "cc7d23bf",
      "metadata": {
        "id": "cc7d23bf"
      },
      "source": [
        "### 1.3.2 Check Data Type"
      ]
    },
    {
      "cell_type": "markdown",
      "id": "cc17923a",
      "metadata": {
        "id": "cc17923a"
      },
      "source": [
        "### 1.3.3 Check Data Stats"
      ]
    },
    {
      "cell_type": "markdown",
      "id": "d363061f",
      "metadata": {
        "id": "d363061f"
      },
      "source": [
        "## 1.4 Outlier Detection"
      ]
    },
    {
      "cell_type": "markdown",
      "id": "2741077a",
      "metadata": {
        "id": "2741077a"
      },
      "source": [
        "## 1.5 Correlation Heatmap"
      ]
    },
    {
      "cell_type": "markdown",
      "id": "3cc31c4c",
      "metadata": {
        "id": "3cc31c4c"
      },
      "source": [
        "## 1.6 Visualisasi Target Delivery Time"
      ]
    },
    {
      "cell_type": "markdown",
      "id": "632fc4cf",
      "metadata": {
        "id": "632fc4cf"
      },
      "source": [
        "# 2. Data Preprocessing"
      ]
    },
    {
      "cell_type": "markdown",
      "id": "c3df3402",
      "metadata": {
        "id": "c3df3402"
      },
      "source": [
        "## 2.1 Feature Engineering: Hitung `delivery_duration_minutes`"
      ]
    },
    {
      "cell_type": "markdown",
      "id": "5eb19374",
      "metadata": {
        "id": "5eb19374"
      },
      "source": [
        "## 2.2 Drop kolom tidak relevan"
      ]
    },
    {
      "cell_type": "markdown",
      "id": "3f87d529",
      "metadata": {
        "id": "3f87d529"
      },
      "source": [
        "## 2.3 Handle Missing Values"
      ]
    },
    {
      "cell_type": "markdown",
      "id": "58424095",
      "metadata": {
        "id": "58424095"
      },
      "source": [
        "## 2.4 Encoding (jika perlu)"
      ]
    },
    {
      "cell_type": "markdown",
      "id": "cd10cf10",
      "metadata": {
        "id": "cd10cf10"
      },
      "source": [
        "## 2.5 Feature Scaling"
      ]
    },
    {
      "cell_type": "markdown",
      "id": "dfdb566b",
      "metadata": {
        "id": "dfdb566b"
      },
      "source": [
        "## 2.6 Save cleaned data untuk modeling"
      ]
    }
  ],
  "metadata": {
    "colab": {
      "provenance": [],
      "include_colab_link": true
    },
    "language_info": {
      "name": "python"
    },
    "kernelspec": {
      "name": "python3",
      "display_name": "Python 3"
    }
  },
  "nbformat": 4,
  "nbformat_minor": 5
}