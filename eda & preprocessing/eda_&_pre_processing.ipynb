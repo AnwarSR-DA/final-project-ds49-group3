{
 "cells": [
  {
   "cell_type": "markdown",
   "id": "6881d365",
   "metadata": {},
   "source": [
    "# 0. Connect to GitHub"
   ]
  },
  {
   "cell_type": "markdown",
   "id": "9cf52273",
   "metadata": {},
   "source": [
    "## 0.1 Import Libraries"
   ]
  },
  {
   "cell_type": "markdown",
   "id": "232c4647",
   "metadata": {},
   "source": [
    "## 0.2 Load Dataset"
   ]
  },
  {
   "cell_type": "markdown",
   "id": "674e905c",
   "metadata": {},
   "source": [
    "# 1. Exploratory Data Analysis"
   ]
  },
  {
   "cell_type": "markdown",
   "id": "e08a7138",
   "metadata": {},
   "source": [
    "## 1.1 Check Null Values"
   ]
  },
  {
   "cell_type": "markdown",
   "id": "098cbfe8",
   "metadata": {},
   "source": [
    "## 1.2 Check Duplicate Data"
   ]
  },
  {
   "cell_type": "markdown",
   "id": "eca854ea",
   "metadata": {},
   "source": [
    "## 1.3 Check Unique Values"
   ]
  },
  {
   "cell_type": "markdown",
   "id": "45bfd95c",
   "metadata": {},
   "source": [
    "### 1.3.1 Check Data Shape"
   ]
  },
  {
   "cell_type": "markdown",
   "id": "cc7d23bf",
   "metadata": {},
   "source": [
    "### 1.3.2 Check Data Type"
   ]
  },
  {
   "cell_type": "markdown",
   "id": "cc17923a",
   "metadata": {},
   "source": [
    "### 1.3.3 Check Data Stats"
   ]
  },
  {
   "cell_type": "markdown",
   "id": "d363061f",
   "metadata": {},
   "source": [
    "## 1.4 Outlier Detection"
   ]
  },
  {
   "cell_type": "markdown",
   "id": "2741077a",
   "metadata": {},
   "source": [
    "## 1.5 Correlation Heatmap"
   ]
  },
  {
   "cell_type": "markdown",
   "id": "3cc31c4c",
   "metadata": {},
   "source": [
    "## 1.6 Visualisasi Target Delivery Time"
   ]
  },
  {
   "cell_type": "markdown",
   "id": "632fc4cf",
   "metadata": {},
   "source": [
    "# 2. Data Preprocessing"
   ]
  },
  {
   "cell_type": "markdown",
   "id": "c3df3402",
   "metadata": {},
   "source": [
    "## 2.1 Feature Engineering: Hitung `delivery_duration_minutes`"
   ]
  },
  {
   "cell_type": "markdown",
   "id": "5eb19374",
   "metadata": {},
   "source": [
    "## 2.2 Drop kolom tidak relevan"
   ]
  },
  {
   "cell_type": "markdown",
   "id": "3f87d529",
   "metadata": {},
   "source": [
    "## 2.3 Handle Missing Values"
   ]
  },
  {
   "cell_type": "markdown",
   "id": "58424095",
   "metadata": {},
   "source": [
    "## 2.4 Encoding (jika perlu)"
   ]
  },
  {
   "cell_type": "markdown",
   "id": "cd10cf10",
   "metadata": {},
   "source": [
    "## 2.5 Feature Scaling"
   ]
  },
  {
   "cell_type": "markdown",
   "id": "dfdb566b",
   "metadata": {},
   "source": [
    "## 2.6 Save cleaned data untuk modeling"
   ]
  }
 ],
 "metadata": {},
 "nbformat": 4,
 "nbformat_minor": 5
}
